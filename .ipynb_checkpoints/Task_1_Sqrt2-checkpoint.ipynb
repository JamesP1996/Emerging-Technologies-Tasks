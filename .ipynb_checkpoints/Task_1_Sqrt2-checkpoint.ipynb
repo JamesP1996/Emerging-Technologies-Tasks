{
 "cells": [
  {
   "cell_type": "markdown",
   "metadata": {},
   "source": [
    "# Square Root of 2 Problem\n",
    "\n",
    "## Objective\n",
    "**To Create a Function that print's the square root of 2 without using in built python modules, to 100 Decimal Places**\n",
    "\n",
    "============================================================================================================================\n",
    "\n",
    "## Problems\n",
    "\n",
    "### The Square Root of 2 is a Irrational Number\n",
    "\n",
    "If we try to get the Square root of 2 as a fraction we can run into some issues.\n",
    "Let's take it to it's simplest fractional form **M/N** which when squared can equate to **m^2 = 2 x n^2**.\n",
    "**M^2** must be a even number, to ensure a even number after we do our calculations, we also must make **n^2** a even number as if we take **m^2/n^2 = 2** , so at first thought we could simplify the fraction with something like 2/12 == 1/6 and no matter how we do it, M and N will be even numbers which means we already have a simplified fraction whether it be 2/12 or 1/6 or 4/24 etc. So something must be wrong here, The issue is that we cannot take the square root of 2 as a Fraction, it is actually a Irrational Number as it cannot be written in a ratio or fraction.\n",
    "\n",
    "The Term **Reductio ad absurdum** could be used for this case, which is also known as **\"Proof by Contradiction\"** \n",
    "According to https://en.wikipedia.org/wiki/Reductio_ad_absurdum\n",
    "\n",
    "**Reductio ad absurdum** is a a type of logical argument where one assumes a claim for the sake of argument and derives an absurd or ridiculous outcome, and then concludes that the original claim must have been wrong as it led to an absurd result.\n",
    "\n",
    "#### Conclusion \n",
    "\n",
    "The square root of 2 is \"irrational\" because if it could be written as a fraction then we would have the absurd case that the fraction would have even numbers at both top and bottom and so could always be simplified leading to endlessness.\n",
    "\n",
    "You can also find that it in decimal places can go on forever. Here is a Link to a Nasa page of the Square Root of 2 to 1 Million Decimal Places. https://apod.nasa.gov/htmltest/gifcity/sqrt2.1mil\n",
    "\n",
    "\n",
    "### Python3 does not support 100 Decimal Places of Accuracy Natively\n",
    "\n",
    "Through my coding and research I had found the difficulty with precision within python's default number assignment. I could get the number to 53 decimal places with trailing 0's using a FString and formatting the result of a algorithm to .100f, the issue was that this was highly innaccurate and did not actually print the number to 100 decimal places, after some research through the Python Documentation I found out there was a hard limit on the amount of decimal place numbers we could have.\n",
    "https://docs.python.org/3/tutorial/floatingpoint.html \n",
    "\n",
    "*\"Python floats to IEEE-754 “double precision”. 754 doubles contain 53 bits of precision, so on input the computer strives to convert 0.1 to the closest fraction it can of the form J/2**N where J is an integer containing exactly 53 bits.\"*\n",
    "\n",
    "**This was the key sentence that stuck out to me and was the root of the trailing 0's issue.**\n",
    "\n",
    "#### Conclusion\n",
    "So what was the solution to overcome these limits of the IEEE-754 Double Precision standard within python that numbers would default to. I thought over various scenearios and the realization is that I could still use strings as they are not limited by the artithmitic issues that numbers are and could print as many characters as I see fit for this purpose.\n",
    "I also came to create my own algorithm of pushing the numbers to left hand side of the decimal and making them whole numbers as this would bypass the issue and then I could format the number to place the decimal point where it needed to be.\n",
    "To do this I would need to multiply the number to the base of 10 and some very long number to give it enough space to take in enough whole numbers to make up the decimal of 100 places after string formatting.\n",
    "In this case I decided on multiplying the number 2 to the base of 10 to the power of 200 as this seemed most logical and would give me the leeway needed.\n",
    "\n",
    "\n",
    "## Solution\n",
    "After doing research on the various ways of Computing The Square Root of a number through a [Wikipedia Article](https://en.wikipedia.org/wiki/Methods_of_computing_square_roots). I came to the conclusion that progammatically the Newton Method also known as the Babylonian Method or Heron's Method would be the simpliest to program and provide a very accurate result without using in built Math Libaries/Modules in Python3 such as **Math**,**Decimal** or **Fractions**.\n",
    "I originally felt that maybe digit by digit calculation could be used and I could append each number to list or a string but programmatically this looked it could be long winded and cause more confusion. There is also the Bakhshali Method where the  approximation roughly quadruples with each iteration for the Square Root of the Number and offers high accuracy to. \n",
    "\n",
    "Overall I felt you could use any Square Root algorithm and find the Square Root of 2 to a near 100% accuracy and that even the Math Libaries in various programming languages probably uses these forms of algorithms to approximate a highly accurate square root of a irrational number or normal fractionable number.\n",
    "\n",
    "I used integers in Python as they are unbounded and could reach a very high whole number value without overflowing when not using Mathamatics based modules.\n",
    "I discovered this through various stackoverflow comments and then performing research on these comments and coming to this link.\n",
    "https://mortada.net/can-integer-operations-overflow-in-python.html\n",
    "\n",
    "\n",
    "### The Final Code and Programmatic Solution"
   ]
  },
  {
   "cell_type": "code",
   "execution_count": 5,
   "metadata": {},
   "outputs": [
    {
     "name": "stdout",
     "output_type": "stream",
     "text": [
      "Square Root of 2 to 100 Decimal Places : 1.4142135623730950488016887242096980785696718753769480731766797379907324784621070388503875343276415727\n"
     ]
    }
   ],
   "source": [
    "#Newton's Method (Babylonian or Hernons)\n",
    "# Returns the square root of n (This is our sqrt2 Function but can take any input by changing N).\n",
    "def squareRoot(n): \n",
    "    # We are using n itself as \n",
    "    # initial approximation (It is accurate but not fully but would be a real starting case)\n",
    "    # Setting everything to a Integer as Integers in Python are Unbounded.\n",
    "        approximation = int(n) \n",
    "        initialization = int(1.00000)\n",
    "          \n",
    "        # accuracy decides the accuracy/precision level \n",
    "        accuracy = 0.100\n",
    "        # While the Approximation - the Intialization is greater then the accuracy Floor divide the approximation by 2\n",
    "        # and set the Intitialization to the original approximization floor divided by the new approximation.\n",
    "        # We are using floor divides also known as Integer divides to keep the number within the Integer Format.\n",
    "        while(approximation - initialization > accuracy): \n",
    "              \n",
    "            approximation = (approximation + initialization) // 2\n",
    "            initialization = n // approximation \n",
    "      \n",
    "        # When the Sum of the Approximation minus the Initialization is less than \n",
    "        # the Accuracy Return the Number as a Integer\n",
    "        return int(approximation) \n",
    "\n",
    "# Set N to a high integer value where the values are pushed to the left\n",
    "n = 2 * 10 ** 200\n",
    "\n",
    "# Print the Square root of 2. fString explanation = squareRoot of 2 function floor divide(integer divide) by 10*100 \n",
    "# and then add a decimal point \".\" and get the numbers after decimal in this case our function's \n",
    "# remainder after being divided by 10 to the power of 100 to 100 decimal places \n",
    "print(f'Square Root of 2 to 100 Decimal Places : {squareRoot(n) // 10**100}.{squareRoot(n) % 10**100 :100d}')\n"
   ]
  },
  {
   "cell_type": "markdown",
   "metadata": {},
   "source": [
    "### Code Explanation\n",
    "I created a square root function that would use the Newton's Method of finding a highly accurate approximation.\n",
    "For this I took an initial approximation and set it to the inputed number(*In this case \"2\"*). I set the intialization on what number could be closest to it, as 1 as this would logically be the number we would think of when we think of the square root of 2 mathmatically as a guess. I set the accuracy to 0.100 decimal places to ensure that the algorithm would run till it reached 100 decimal places. I then setup a while loop to run to while the approximation minus the initialization is greater then the accuracy we want and then redefined the variables to try get more accurate with our final approximation so in this case I set the approximation equal to the apprxomation plus the intialization floor divided by 2 and the intialization now equal to the number integer divided by the new approximation. I did it this was as it was how the Newton's algorithm would of done it mathmatically except I am merely coding up a python3 version of it. After the accuracy is greater then our sum of minusing the numbers from eachother I return the Integer value of the approximation. \n",
    "\n",
    "This number would be quite large as I multipled 2 to the base of 10 and powered it to 200 to ensure that I had enough digit leeway while not changing the value to get the integer number to 100 decimal places.\n",
    "\n",
    "Finally I created a F-String print statement which takes in the function we created twice. The First time we are integer dividing it to the base of 10 to 100 to retrive the Intitial Integer value before the decimal point which would be \"1\". The reason I did it this way rather then typing \"1\" is because I wanted it to have mathmatical merit and make the function re-useable in the future incase someone changes N to another irrational number such as PI. Finally I add a fake decimal point after the initial \"1\" we previously printed and then print out the remainder of our square root function with the same Number value (in this case 2) modulus divided by the base of 10 to the power of 100 and formatted the number/string to 100 decimals."
   ]
  },
  {
   "cell_type": "code",
   "execution_count": null,
   "metadata": {},
   "outputs": [],
   "source": []
  }
 ],
 "metadata": {
  "kernelspec": {
   "display_name": "Python 3",
   "language": "python",
   "name": "python3"
  },
  "language_info": {
   "codemirror_mode": {
    "name": "ipython",
    "version": 3
   },
   "file_extension": ".py",
   "mimetype": "text/x-python",
   "name": "python",
   "nbconvert_exporter": "python",
   "pygments_lexer": "ipython3",
   "version": "3.8.3"
  }
 },
 "nbformat": 4,
 "nbformat_minor": 4
}
